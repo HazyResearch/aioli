{
 "cells": [
  {
   "cell_type": "code",
   "execution_count": null,
   "metadata": {},
   "outputs": [],
   "source": [
    "%load_ext autoreload\n",
    "%autoreload 2"
   ]
  },
  {
   "cell_type": "code",
   "execution_count": 19,
   "metadata": {},
   "outputs": [],
   "source": [
    "import pandas as pd \n",
    "import os \n",
    "import numpy as np\n",
    "import torch \n",
    "\n",
    "\n",
    "from law import ScalingLaw, MultiObjScalingLaw"
   ]
  },
  {
   "cell_type": "markdown",
   "metadata": {},
   "source": [
    "# Functions"
   ]
  },
  {
   "cell_type": "code",
   "execution_count": 20,
   "metadata": {},
   "outputs": [],
   "source": [
    "def load_break_losses(dirs, slice_list, task_name):\n",
    "    files_to_exclude = ['trace', 'val_inputs', 'labels', 'proportions', 'emb', 'rouge', 'generations', 'gradient', 'acc', 'matrices']\n",
    "    df_all = pd.DataFrame() \n",
    "\n",
    "    for dir in dirs:\n",
    "        files = os.listdir(dir)\n",
    "        files = [os.path.join(dir, f) for f in files]\n",
    "        files.sort(key=lambda x: os.path.getmtime(x), reverse=True)\n",
    "\n",
    "        for file in files:\n",
    "            if \".log\" in file or task_name not in file:\n",
    "                continue \n",
    "\n",
    "            if any(skill not in file for skill in slice_list):\n",
    "                continue \n",
    "\n",
    "            if \"break\" not in file:\n",
    "                continue\n",
    "\n",
    "            break_steps = int(file.split(\"break_\")[-1].split(\"_\")[0])\n",
    "           \n",
    "            method = file.split(\"/\")[-1]\n",
    "\n",
    "            if \"doremi\" not in file:\n",
    "                continue \n",
    "\n",
    "            runs = os.listdir(file)\n",
    "            for run in runs:\n",
    "\n",
    "                if \"test_\" in run:\n",
    "                    continue\n",
    "\n",
    "                if any([exclude_file in run for exclude_file in files_to_exclude]):\n",
    "                    continue \n",
    "\n",
    "                seed = int(run.split(\"seed_\")[-1].split(\"_\")[0])\n",
    "                checkpoint = int(run.split(\"-\")[-1].split(\".\")[0])\n",
    "\n",
    "\n",
    "                path = os.path.join(file, run)\n",
    "\n",
    "                df = pd.read_pickle(path)\n",
    "\n",
    "                df = df.rename(columns={\"task_idx\": \"skill\", \"task_loss\": \"loss\"})\n",
    "\n",
    "                df[\"method\"] = method\n",
    "                df[\"seed\"] = seed\n",
    "                df[\"checkpoint\"] = checkpoint\n",
    "                df[\"break_steps\"] = break_steps\n",
    "\n",
    "\n",
    "                df.set_index(\"checkpoint\", inplace=True)\n",
    "\n",
    "\n",
    "                df_all = pd.concat([df_all, df])\n",
    "\n",
    "\n",
    "    df_all = df_all.sort_values(by=[\"checkpoint\", \"seed\"])\n",
    "    return df_all\n"
   ]
  },
  {
   "cell_type": "code",
   "execution_count": 21,
   "metadata": {},
   "outputs": [],
   "source": [
    "def load_resume_losses(dirs, slice_list, task_name):\n",
    "    files_to_exclude = ['trace', 'val_inputs', 'labels', 'proportions', 'emb', 'rouge', 'generations', 'gradient', 'acc', 'matrices']    \n",
    "    df_all = pd.DataFrame() \n",
    "\n",
    "    for dir in dirs:\n",
    "        files = os.listdir(dir)\n",
    "        files = [os.path.join(dir, f) for f in files] \n",
    "        files.sort(key=lambda x: os.path.getmtime(x), reverse=True)\n",
    "\n",
    "        for file in files:\n",
    "            if \".log\" in file or task_name not in file:\n",
    "                continue \n",
    "\n",
    "            if any(skill not in file for skill in slice_list):\n",
    "                continue \n",
    "\n",
    "            if \"resume\" not in file:\n",
    "                continue\n",
    "\n",
    "            if \"doremi\" not in file:\n",
    "                continue \n",
    "\n",
    "\n",
    "            method = file.split(\"/\")[-1]\n",
    "\n",
    "            new_weight_str = method.split(\"weights_\")[-1].split(\"_\")[0]\n",
    "            new_a, new_b, new_c = [float(f\"0.{weight}\") for weight in new_weight_str.split(\"0.\")[1:]]\n",
    "\n",
    "\n",
    "            break_steps = int(file.split(f\"resume_doremi_\")[-1].split(\"_\")[0])\n",
    "\n",
    "\n",
    "            runs = os.listdir(file)\n",
    "            for run in runs:\n",
    "\n",
    "                if \"test_\" in run:\n",
    "                    continue\n",
    "\n",
    "                if any([exclude_file in run for exclude_file in files_to_exclude]):\n",
    "                    continue \n",
    "\n",
    "                seed = int(run.split(\"seed_\")[-1].split(\"_\")[0])\n",
    "                checkpoint = int(run.split(\"-\")[-1].split(\".\")[0])\n",
    "\n",
    "\n",
    "                path = os.path.join(file, run)\n",
    "\n",
    "                df = pd.read_pickle(path)\n",
    "\n",
    "                df = df.rename(columns={\"task_idx\": \"skill\", \"task_loss\": \"loss\"})\n",
    "\n",
    "                df[\"method\"] = method\n",
    "                df[\"seed\"] = seed\n",
    "                df[\"checkpoint\"] = checkpoint\n",
    "                df[\"break_steps\"] = break_steps\n",
    "                df[\"new_p1\"] = new_a \n",
    "                df[\"new_p2\"] = new_b \n",
    "                df[\"new_p3\"] = new_c \n",
    "\n",
    "                df.set_index(\"checkpoint\", inplace=True)\n",
    "\n",
    "\n",
    "                df_all = pd.concat([df_all, df])\n",
    "\n",
    "\n",
    "    df_all = df_all.sort_values(by=[\"checkpoint\", \"new_p1\", \"seed\"])\n",
    "    return df_all\n"
   ]
  },
  {
   "cell_type": "code",
   "execution_count": 22,
   "metadata": {},
   "outputs": [],
   "source": [
    "def load_doremi_matrices(dirs, slice_list, break_steps):\n",
    "    matrices = {}\n",
    "\n",
    "    slice_str = \"_\".join(slice_list)\n",
    "    for dir in dirs:\n",
    "        files = os.listdir(dir)\n",
    "        files = [os.path.join(dir, f) for f in files]\n",
    "\n",
    "        for file in files:\n",
    "            \n",
    "            if \"break\" in file and f\"stratified_{slice_str}_doremi\" in file:\n",
    "\n",
    "                s = int(file.split(\"_break_\")[-1].split(\"_\")[0])\n",
    "                if s != break_steps:\n",
    "                    continue\n",
    "                runs = os.listdir(file)\n",
    "                for run in runs:\n",
    "                    if \"avg\" not in run:\n",
    "                        continue\n",
    "                    if \"drm_matrices.npy\" not in run:\n",
    "                        continue \n",
    "                    path = os.path.join(file, run)\n",
    "                    print(path)\n",
    "                    seed = int(run.split(\"seed_\")[-1].split(\"_\")[0])\n",
    "\n",
    "                    \n",
    "\n",
    "                    A = np.load(path)\n",
    "                    matrices[seed] = A.mean(axis=0)\n",
    "\n",
    "    return matrices"
   ]
  },
  {
   "cell_type": "code",
   "execution_count": 23,
   "metadata": {},
   "outputs": [],
   "source": [
    "def calculate_r_squared(actuals, predictions):\n",
    "    actuals, predictions = actuals.numpy(), predictions.numpy()\n",
    "    # Calculate the total sum of squares\n",
    "    total_sum_of_squares = np.sum((actuals - np.mean(actuals)) ** 2)\n",
    "    # Calculate the residual sum of squares\n",
    "    residual_sum_of_squares = np.sum((actuals - predictions) ** 2)\n",
    "    # Calculate R-squared\n",
    "    r_squared = 1 - (residual_sum_of_squares / total_sum_of_squares)\n",
    "    return r_squared\n"
   ]
  },
  {
   "cell_type": "code",
   "execution_count": 25,
   "metadata": {},
   "outputs": [],
   "source": [
    "def mixing_law_full(x, param):\n",
    "    # one set of params per skill\n",
    "    #print(param)\n",
    "\n",
    "    result = torch.matmul(x, param)\n",
    "    return result\n",
    "\n",
    "def init_params_law_full(idx, num_domains=3):\n",
    "    #for c_i in np.linspace(0.5, 5, 10):\n",
    "    for _ in range(30):\n",
    "        ts = [-np.random.rand() if i == idx else np.random.rand() * 0.1 for i in range(num_domains)]\n",
    "        yield ts"
   ]
  },
  {
   "cell_type": "code",
   "execution_count": 27,
   "metadata": {},
   "outputs": [],
   "source": [
    "def make_individual_xy_full(df_break, df_resume, skill, break_steps, seed):\n",
    "    x = []\n",
    "    y = []\n",
    "\n",
    "    df_break_subset = df_break[(df_break.break_steps == break_steps) & (df_break.seed == seed) & (df_break.skill == skill)]\n",
    "    df_break_subset = df_break_subset.loc[df_break_subset.index.max()]\n",
    "\n",
    "    df_resume_subset = df_resume[(df_resume.break_steps == break_steps) & (df_resume.seed == seed) & (df_resume.skill == skill)]\n",
    "    df_resume_subset = df_resume_subset.loc[df_resume_subset.index.max()]\n",
    "    \n",
    "        \n",
    "    loss_0 = df_break_subset.loss\n",
    "    x = df_resume_subset[['new_p1', 'new_p2', 'new_p3']].values\n",
    "    y = df_resume_subset['loss'].values - loss_0\n",
    "\n",
    "    return x, y"
   ]
  },
  {
   "cell_type": "code",
   "execution_count": 65,
   "metadata": {},
   "outputs": [],
   "source": [
    "def make_xy_joint(df_break, df_resume, matrix, break_steps, seed):\n",
    "    x = []\n",
    "    y = []\n",
    "\n",
    "    df_break_subset = df_break[(df_break.break_steps == break_steps) & (df_break.seed == seed)]\n",
    "    df_break_subset = df_break_subset.loc[df_break_subset.index.max()]\n",
    "\n",
    "    df_resume_subset = df_resume[(df_resume.break_steps == break_steps) & (df_resume.seed == seed)]\n",
    "    df_resume_subset = df_resume_subset.loc[df_resume_subset.index.max()]\n",
    "\n",
    "    x = df_resume_subset[['new_p1_normalized', 'new_p2_normalized', 'new_p3_normalized']].drop_duplicates(keep='first').values.T\n",
    "    x = matrix.dot(x)\n",
    "\n",
    "    y = df_resume_subset['loss'].values.reshape(-1, 3) - df_break_subset.loss.values\n",
    "\n",
    "    return x, y"
   ]
  },
  {
   "cell_type": "code",
   "execution_count": 67,
   "metadata": {},
   "outputs": [],
   "source": [
    "def law_1(x, param):\n",
    "    b = param[0]\n",
    "    return b*x[0]\n",
    "\n",
    "def law_2(x, param):\n",
    "    b = param[0]\n",
    "    return b*x[1]\n",
    "\n",
    "def law_3(x, param):\n",
    "    b = param[0]\n",
    "    return b*x[2]\n",
    "\n",
    "\n",
    "def param_generator_joint():\n",
    "    for b in np.linspace(-10, 0, 5):\n",
    "        yield [b]"
   ]
  },
  {
   "cell_type": "markdown",
   "metadata": {},
   "source": [
    "# Arxiv Book Stackexchange"
   ]
  },
  {
   "cell_type": "code",
   "execution_count": 49,
   "metadata": {},
   "outputs": [],
   "source": [
    "dirs = [\"../output/09252024/\", \"../output/09262024/\"] # REPLACE WITH YOUR RUN OUTPUT DIRECTORIES\n",
    "task_name = \"slimpj\"\n",
    "slice_list = ['arxiv', 'book', 'stackexchange']\n",
    "df_break = load_break_losses(dirs, slice_list, task_name)"
   ]
  },
  {
   "cell_type": "code",
   "execution_count": 50,
   "metadata": {},
   "outputs": [],
   "source": [
    "skills = sorted(df_break.skill.unique())"
   ]
  },
  {
   "cell_type": "code",
   "execution_count": 51,
   "metadata": {},
   "outputs": [],
   "source": [
    "df_resume = load_resume_losses(dirs, skills, task_name)\n",
    "df_resume['new_p1_normalized'] = df_resume.apply(lambda x: x['new_p1']/(x['new_p1'] + x['new_p2'] + x['new_p3']), axis=1)\n",
    "df_resume['new_p2_normalized'] = df_resume.apply(lambda x: x['new_p2']/(x['new_p1'] + x['new_p2'] + x['new_p3']), axis=1)\n",
    "df_resume['new_p3_normalized'] = df_resume.apply(lambda x: x['new_p3']/(x['new_p1'] + x['new_p2'] + x['new_p3']), axis=1)"
   ]
  },
  {
   "cell_type": "code",
   "execution_count": 52,
   "metadata": {},
   "outputs": [],
   "source": [
    "df_resume = df_resume[df_resume.index==1500]"
   ]
  },
  {
   "cell_type": "code",
   "execution_count": 53,
   "metadata": {},
   "outputs": [],
   "source": [
    "break_steps = sorted(df_resume.break_steps.unique())\n",
    "seeds = sorted(df_break.seed.unique())\n",
    "\n",
    "break_steps = [1000]"
   ]
  },
  {
   "cell_type": "markdown",
   "metadata": {},
   "source": [
    "## Get $A^{t \\star}$ "
   ]
  },
  {
   "cell_type": "code",
   "execution_count": null,
   "metadata": {},
   "outputs": [],
   "source": [
    "params = {skill : {bs: {seed: {} for seed in seeds} for bs in break_steps} for skill in skills }\n",
    "\n",
    "x_per_skill = {skill : {bs: {seed: {} for seed in seeds} for bs in break_steps} for skill in skills }\n",
    "y_per_skill = {skill : {bs: {seed: {} for seed in seeds} for bs in break_steps} for skill in skills }\n",
    "\n",
    "mses = []\n",
    "r2s = []\n",
    "for i, skill in enumerate(skills):\n",
    "    for bs in break_steps:\n",
    "        for seed in seeds:\n",
    "            print(skill, bs, seed)\n",
    "            x, y = make_individual_xy_full(df_break, df_resume, skill, bs, seed)\n",
    "        \n",
    "            x_per_skill[skill][bs][seed] = x\n",
    "            y_per_skill[skill][bs][seed] = y\n",
    "                        \n",
    "            law = ScalingLaw(mixing_law_full)\n",
    "            p = law.fit(x, y, init_params_law_full(i, num_domains=len(skills)), max_step=100, delta=0.02)\n",
    "            params[skill][bs][seed] = p # param\n",
    "\n",
    "            prediction_train = mixing_law_full(torch.tensor(x, dtype=torch.float), torch.tensor(p, dtype=torch.float))\n",
    "            mse_train = torch.nn.functional.mse_loss(prediction_train, torch.tensor(y, dtype=torch.float)).item()\n",
    "            r2_train = calculate_r_squared(torch.tensor(y), torch.tensor(prediction_train))\n",
    "\n",
    "            mses.append(mse_train)\n",
    "            r2s.append(r2_train)\n",
    "\n",
    "\n",
    "            print(f\"MSE: {mse_train}, R2: {r2_train}\")\n",
    "\n",
    "\n",
    "mses = np.array(mses)\n",
    "r2s = np.array(r2s)\n",
    "\n",
    "print(mses.mean(), mses.std())\n",
    "print(r2s.mean(), r2s.std())\n"
   ]
  },
  {
   "cell_type": "code",
   "execution_count": 38,
   "metadata": {},
   "outputs": [],
   "source": [
    "import pickle \n",
    "\n",
    "with open(\"./law_results/arxiv_books_stackexchange/params_doremi_trajectory_opt_1000_steps_500.pkl\", \"wb\") as f:\n",
    "    pickle.dump(params, f)"
   ]
  },
  {
   "cell_type": "markdown",
   "metadata": {},
   "source": [
    "## Get $\\tilde{A}^t = b^t A^t$"
   ]
  },
  {
   "cell_type": "code",
   "execution_count": null,
   "metadata": {},
   "outputs": [],
   "source": [
    "doremi_matrices = load_doremi_matrices(dirs, slice_list, 1000)"
   ]
  },
  {
   "cell_type": "code",
   "execution_count": null,
   "metadata": {},
   "outputs": [],
   "source": [
    "params_doremi = {bs: {seed: {} for seed in seeds} for bs in break_steps}\n",
    "\n",
    "\n",
    "x_per_skill_doremi = {bs: {seed: {} for seed in seeds} for bs in break_steps}\n",
    "y_per_skill_doremi = {bs: {seed: {} for seed in seeds} for bs in break_steps}\n",
    "\n",
    "for bs in break_steps:\n",
    "    for seed in seeds:\n",
    "        print(bs, seed)\n",
    "        x, ys = make_xy_joint(df_break, df_resume, doremi_matrices[seed], bs, seed)\n",
    "        \n",
    "        x_per_skill_doremi[bs][seed] = x\n",
    "        y_per_skill_doremi[bs][seed] = ys\n",
    "                    \n",
    "        law = MultiObjScalingLaw([law_1, law_2, law_3])\n",
    "        p = law.fit(x, ys.T, param_generator_joint(), max_step=100, delta=0.02)\n",
    "        params_doremi[bs][seed] = p"
   ]
  },
  {
   "cell_type": "code",
   "execution_count": 70,
   "metadata": {},
   "outputs": [],
   "source": [
    "import pickle \n",
    "\n",
    "with open(\"./law_results/arxiv_books_stackexchange/params_doremi_trajectory_doremi_matrix_1000_steps_500.pkl\", \"wb\") as f:\n",
    "    pickle.dump(params_doremi, f)"
   ]
  }
 ],
 "metadata": {
  "kernelspec": {
   "display_name": "mayeeenv",
   "language": "python",
   "name": "python3"
  },
  "language_info": {
   "codemirror_mode": {
    "name": "ipython",
    "version": 3
   },
   "file_extension": ".py",
   "mimetype": "text/x-python",
   "name": "python",
   "nbconvert_exporter": "python",
   "pygments_lexer": "ipython3",
   "version": "3.8.18"
  }
 },
 "nbformat": 4,
 "nbformat_minor": 2
}
